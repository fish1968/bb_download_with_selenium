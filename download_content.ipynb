{
 "cells": [
  {
   "cell_type": "code",
   "execution_count": null,
   "metadata": {},
   "outputs": [],
   "source": [
    "from selenium import webdriver\n",
    "from selenium.webdriver.common.keys import Keys\n",
    "from selenium.webdriver.common.by import By\n",
    "from selenium.common.exceptions import NoSuchElementException\n",
    "import os \n",
    "from info import *\n",
    "\n",
    "while True:\n",
    "    try:\n",
    "        subject = input(\"PLease give me a subject name as the folder\")\n",
    "        path_loc = os.path.join(os.getcwd(), subject)\n",
    "        os.mkdir(path_loc)\n",
    "        break\n",
    "    except:\n",
    "        print(f\"{subject} is not a valid folder name, please modify\")\n",
    "        continue\n",
    "\n",
    "# Key to download pdf by default\n",
    "options = webdriver.ChromeOptions()\n",
    "chrome_prefs = {\n",
    "    \"download.prompt_for_download\": False,\n",
    "    \"plugins.always_open_pdf_externally\": True,\n",
    "    \"download.open_pdf_in_system_reader\": False,\n",
    "    \"profile.default_content_settings.popups\": 0,\n",
    "    \"download.default_directory\": path_loc\n",
    "}\n",
    "options.add_experimental_option(\"prefs\", chrome_prefs)\n",
    "\n",
    "# pip install webdriver-manager\n",
    "driver = webdriver.Chrome(options=options)\n",
    "\n",
    "\n",
    "base_url = \"https://bb.cuhk.edu.cn/\"\n",
    "coures_page = \"webapps/portal/execute/tabs/tabAction?tab_tab_group_id=_2_1\"\n",
    "input_SID_xpath = r'''//*[@id=\"user_id\"]'''\n",
    "input_password_xpath = r'''//*[@id=\"password\"]'''\n",
    "login_button_xpath = r'''//*[@id=\"loginFormList\"]/li[4]/input'''\n",
    "\n",
    "\n",
    "\n",
    "\n",
    "driver.get(base_url)\n",
    "from time import sleep\n",
    "driver.find_element_by_xpath(input_SID_xpath).send_keys(S_ID)\n",
    "driver.find_element_by_xpath(input_password_xpath).send_keys(password)\n",
    "\n",
    "\n",
    "driver.find_element_by_xpath(login_button_xpath).send_keys(Keys.ENTER)\n",
    "driver.get(base_url+coures_page)\n",
    "\n",
    "\n",
    "# assert \"Python\" in driver.title\n",
    "# elem = driver.find_element(By.NAME, \"q\")\n",
    "# elem.send_keys(\"pycon\")\n",
    "# elem.send_keys(Keys.RETURN)\n",
    "# assert \"No results found.\" not in driver.page_source\n",
    "# elem.clear()"
   ]
  },
  {
   "attachments": {},
   "cell_type": "markdown",
   "metadata": {},
   "source": [
    "Manually go to a main content page of a course"
   ]
  },
  {
   "cell_type": "code",
   "execution_count": null,
   "metadata": {},
   "outputs": [],
   "source": [
    "IS_TEST = False # This only works for CSC3100 2022-2023 Fall Term course\n",
    "# if not please manually go to the Main content page\n",
    "# An example url for main content page is below\n",
    "# https://bb.cuhk.edu.cn/webapps/blackboard/content/listContent.jsp?course_id=_8275_1&content_id=_274527_1&mode=reset\n",
    "content_url = 'webapps/blackboard/content/listContent.jsp?'\n",
    "course_page = \"webapps/blackboard/execute/modulepage/view?course_id={course}&cmp_tab_id={cmp_tab}\"\n",
    "course_content_page = \"webapps/blackboard/content/listContent.jsp?course_id={course}&content_id={content}\"\n",
    "\n",
    "folder_entry_xpath = '''//*[@id=\"containerdiv\"]'''\n",
    "\n",
    "if IS_TEST:\n",
    "    course_id = \"_8275_1\" # Not useful, it is course specific one\n",
    "    cmp_tab_id = '_17861_1'\n",
    "    main_content_id = '_274527_1'\n",
    "    # This may needs automation\n",
    "    my_url = base_url + course_content_page.format(course=course_id, content=main_content_id)\n",
    "    driver.get(my_url)\n",
    "else:\n",
    "    input(\"Ready? then Enter\")\n",
    "\n",
    "def download_files_under_this(total_file_links = [], pass_folder_links = [], depth = 0, max_depth = -1):\n",
    "    if max_depth >= 0 and depth > max_depth:\n",
    "        return\n",
    "    # locate file links in this page\n",
    "    try:\n",
    "        content_list = driver.find_element(By.CLASS_NAME, \"contentList\")\n",
    "        page_urls = content_list.find_elements(By.TAG_NAME, 'a')\n",
    "\n",
    "        # print(len(set(page_urls)) == len(page_urls)) # whether all urls in this page are unique, seems always True\n",
    "        \n",
    "        for url in page_urls:\n",
    "            page_url = url.get_attribute('href')\n",
    "            if 'bbcswebdav' in page_url and page_url not in total_file_links:\n",
    "                total_file_links.append(page_url)\n",
    "                print(\"find new pdf link: \", page_url)\n",
    "    except NoSuchElementException:\n",
    "        # print(\"Content list not found in {driver.current_url}\")\n",
    "        pass\n",
    "    except Exception as e:\n",
    "        print(e)\n",
    "    pass_folder_links.append(driver.current_url)\n",
    "    # locate each folder\n",
    "    folder_links = []\n",
    "    try: # avoid stale references errors?\n",
    "        folders = driver.find_element(By.XPATH, folder_entry_xpath).find_elements(By.CLASS_NAME, \"read\")\n",
    "        for ele in folders:\n",
    "            try:\n",
    "                ref_link = ele.find_element(By.TAG_NAME, 'a').get_attribute('href')\n",
    "                if content_url in ref_link and ref_link not in folder_links and ref_link not in pass_folder_links:\n",
    "                    folder_links.append(ref_link)\n",
    "                    print(\"Add folder link\", ref_link)\n",
    "                else:\n",
    "                    pass\n",
    "                    # print(f\"{ref_link} is not a folder link in bb\")\n",
    "            except NoSuchElementException:\n",
    "                # print(f\"No element found in {ele.text}\")\n",
    "                continue\n",
    "    except:\n",
    "        pass\n",
    "    # go through each folder\n",
    "    for url in folder_links:\n",
    "        driver.get(url)\n",
    "        pass_folder_links.append(url)\n",
    "        print(\"enter folder \", url)\n",
    "        download_files_under_this(total_file_links, pass_folder_links, depth+1)\n",
    "    \n",
    "    if depth == 0:\n",
    "        with open('file_links.txt', 'w') as f:\n",
    "            for url in total_file_links:\n",
    "                f.write(url + \"\\n\")\n",
    "            \n",
    "        # download all file in file_links\n",
    "        print(\"-\"*10, \"download starts\", \"-\"*10)\n",
    "        for idx, url in enumerate(total_file_links):\n",
    "            if idx % 5 == 0:\n",
    "                sleep(5) # let the network slow down\n",
    "            driver.get(url)\n",
    "        \n",
    "\n",
    "\n",
    "total_file_links = []\n",
    "pass_folder_links = []\n",
    "depth = 0\n",
    "download_files_under_this(total_file_links=total_file_links, pass_folder_links=pass_folder_links, depth=depth)\n",
    "# All should be done at here, and if you think your download has finished after a few minutes then run next line"
   ]
  },
  {
   "cell_type": "code",
   "execution_count": null,
   "metadata": {},
   "outputs": [],
   "source": [
    "driver.close() # Everything done!"
   ]
  },
  {
   "cell_type": "code",
   "execution_count": null,
   "metadata": {},
   "outputs": [],
   "source": []
  },
  {
   "cell_type": "code",
   "execution_count": null,
   "metadata": {},
   "outputs": [],
   "source": []
  },
  {
   "cell_type": "code",
   "execution_count": null,
   "metadata": {},
   "outputs": [],
   "source": []
  },
  {
   "cell_type": "code",
   "execution_count": null,
   "metadata": {},
   "outputs": [],
   "source": []
  },
  {
   "cell_type": "code",
   "execution_count": null,
   "metadata": {},
   "outputs": [],
   "source": []
  },
  {
   "cell_type": "code",
   "execution_count": null,
   "metadata": {},
   "outputs": [],
   "source": []
  },
  {
   "cell_type": "code",
   "execution_count": null,
   "metadata": {},
   "outputs": [],
   "source": []
  },
  {
   "cell_type": "code",
   "execution_count": null,
   "metadata": {},
   "outputs": [],
   "source": [
    "# Below are useless only for my testing"
   ]
  },
  {
   "cell_type": "code",
   "execution_count": null,
   "metadata": {},
   "outputs": [],
   "source": [
    "content_ele = driver.find_element_by_xpath(folder_entry_xpath)\n",
    "print(\"--\"*5 + \"possible folder names \"+ \"--\"*5)\n",
    "print(content_ele.text)\n",
    "\n",
    "# Obtain each folder's reference link\n",
    "# folders = driver.find_elements(By.CLASS_NAME, \"read\")\n",
    "folders = content_ele.find_elements(By.CLASS_NAME, \"read\")\n",
    "\n",
    "folder_links = []\n",
    "ref_link = \"\"\n",
    "\n",
    "for element in folders:\n",
    "    try:\n",
    "        a_tag = element.find_element(By.TAG_NAME, 'a')\n",
    "    except NoSuchElementException:\n",
    "        print(f\"No element found in {element.text}\")\n",
    "        continue\n",
    "    ref_link = a_tag.get_attribute('href')\n",
    "    if content_url in ref_link:\n",
    "        folder_links.append(ref_link)\n",
    "    else:\n",
    "        print(f\"{ref_link} is not a folder link in bb\")\n",
    "print(\"--\"*5 + \"Folder links\" + \"--\"*5)\n",
    "print(folder_links)\n"
   ]
  },
  {
   "cell_type": "code",
   "execution_count": null,
   "metadata": {},
   "outputs": [],
   "source": [
    "# Obtain download urls from current page \n",
    "file_links = []\n",
    "try:\n",
    "    content_list = driver.find_element(By.CLASS_NAME, \"contentList\")\n",
    "    page_urls = content_list.find_elements(By.TAG_NAME, 'a')\n",
    "\n",
    "    print(len(set(page_urls)) == len(page_urls))\n",
    "    with open(\"file_link.txt\", 'w') as f:\n",
    "        with open('other_link.txt', 'w') as f2:\n",
    "            for url in page_urls:\n",
    "                page_url = url.get_attribute('href')\n",
    "                if 'bbcswebdav' in page_url and page_url not in file_links:\n",
    "                    file_links.append(page_url)\n",
    "                    f.write(page_url + '\\n')\n",
    "                else:\n",
    "                    f2.write(page_url + '\\n')\n",
    "except NoSuchElementException:\n",
    "    print(\"Content list not found in {driver.current_url}\")\n",
    "\n",
    "\n",
    "# for url in page_urls:\n",
    "#     print(url.get_attribute('href'))\n"
   ]
  },
  {
   "cell_type": "code",
   "execution_count": null,
   "metadata": {},
   "outputs": [],
   "source": [
    "real_file_links = []\n",
    "\n",
    "with open('pdf_link.txt', 'w') as f:\n",
    "    \n",
    "    for url in file_links:\n",
    "        driver.get(url)\n",
    "        real_file_links.append(driver.current_url)\n",
    "        print(driver.current_url)\n",
    "        f.write(driver.current_url + '\\n')\n"
   ]
  },
  {
   "cell_type": "code",
   "execution_count": null,
   "metadata": {},
   "outputs": [],
   "source": [
    "# Download pdf from url to specific folders https://scripteverything.com/download-pdf-selenium-python/\n",
    "js_script = f''' \n",
    "\t\t\tbody = document.querySelector('body');\n",
    "\t\t\telement = document.createElement('a');\n",
    "            element.href = \"{real_file_links[5]}\"\n",
    "            element.download = \"\";\n",
    "\t\t\ttext = document.createTextNode('Hello WOrld YABINYABIN');\n",
    "\t\t\telement.appendChild(text);\n",
    "\t\t\tbody.append(element);\n",
    "            //element.click()\n",
    "'''\n",
    "\n",
    "driver.execute_script(js_script)"
   ]
  },
  {
   "cell_type": "code",
   "execution_count": null,
   "metadata": {},
   "outputs": [],
   "source": [
    "options = webdriver.ChromeOptions()\n",
    "options.add_experimental_option('prefs', {\n",
    "\"download.default_directory\": \"C:/Users/XXXX/Desktop\", #Change default directory for downloads\n",
    "\"download.prompt_for_download\": False, #To auto download the file\n",
    "\"download.directory_upgrade\": True,\n",
    "\"plugins.always_open_pdf_externally\": True #It will not show PDF directly in chrome\n",
    "})\n",
    "driver.create_options()"
   ]
  },
  {
   "cell_type": "code",
   "execution_count": null,
   "metadata": {},
   "outputs": [],
   "source": [
    "\n",
    "driver.get('https://bb.cuhk.edu.cn/bbcswebdav/pid-317351-dt-content-rid-4972414_1/xid-4972414_1')"
   ]
  },
  {
   "cell_type": "code",
   "execution_count": null,
   "metadata": {},
   "outputs": [],
   "source": [
    "for url in folder_links:\n",
    "    driver.get(url)\n",
    "    sleep(20)"
   ]
  },
  {
   "cell_type": "code",
   "execution_count": null,
   "metadata": {},
   "outputs": [],
   "source": [
    "driver.close()"
   ]
  }
 ],
 "metadata": {
  "kernelspec": {
   "display_name": "base",
   "language": "python",
   "name": "python3"
  },
  "language_info": {
   "codemirror_mode": {
    "name": "ipython",
    "version": 3
   },
   "file_extension": ".py",
   "mimetype": "text/x-python",
   "name": "python",
   "nbconvert_exporter": "python",
   "pygments_lexer": "ipython3",
   "version": "3.9.13"
  },
  "orig_nbformat": 4,
  "vscode": {
   "interpreter": {
    "hash": "cd882dfa16736b50d668d4c167b4d759d996ae1bea110bbbc05da598ba0e86f2"
   }
  }
 },
 "nbformat": 4,
 "nbformat_minor": 2
}
